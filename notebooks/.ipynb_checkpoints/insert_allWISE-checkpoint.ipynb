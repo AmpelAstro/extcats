{
 "cells": [
  {
   "cell_type": "markdown",
   "metadata": {},
   "source": [
    "# Add external catalog for source matching in AMPEL: allWISE catalog\n",
    "\n",
    "This notebook will create a dabase containing the allWISE all-sky mid-infrared catalog. References, data access, and documentation on the catalog can be found at:\n",
    "\n",
    "http://wise2.ipac.caltech.edu/docs/release/allwise/\n",
    "\n",
    "http://irsa.ipac.caltech.edu/data/download/wise-allwise/\n",
    "\n",
    "This notebook is straight to the point, more like an actual piece of code than a demo. For an explanation of the various steps needed in the see the 'insert_example' notebook in this same folder.\n",
    "\n",
    "\n",
    "\n",
    "## TODOs:\n",
    "- can we skimm out some columns? e.g. proper motion stuff. "
   ]
  },
  {
   "cell_type": "markdown",
   "metadata": {},
   "source": [
    "## 1) Inserting:"
   ]
  },
  {
   "cell_type": "code",
   "execution_count": 1,
   "metadata": {},
   "outputs": [
    {
     "ename": "ModuleNotFoundError",
     "evalue": "No module named 'CatalogPusher'",
     "output_type": "error",
     "traceback": [
      "\u001b[0;31m---------------------------------------------------------------------------\u001b[0m",
      "\u001b[0;31mModuleNotFoundError\u001b[0m                       Traceback (most recent call last)",
      "\u001b[0;32m<ipython-input-1-51223880e94f>\u001b[0m in \u001b[0;36m<module>\u001b[0;34m()\u001b[0m\n\u001b[1;32m      1\u001b[0m \u001b[0;32mimport\u001b[0m \u001b[0mnumpy\u001b[0m \u001b[0;32mas\u001b[0m \u001b[0mnp\u001b[0m\u001b[0;34m\u001b[0m\u001b[0m\n\u001b[1;32m      2\u001b[0m \u001b[0;32mfrom\u001b[0m \u001b[0mhealpy\u001b[0m \u001b[0;32mimport\u001b[0m \u001b[0mang2pix\u001b[0m\u001b[0;34m\u001b[0m\u001b[0m\n\u001b[0;32m----> 3\u001b[0;31m \u001b[0;32mimport\u001b[0m \u001b[0mCatalogPusher\u001b[0m\u001b[0;34m\u001b[0m\u001b[0m\n\u001b[0m\u001b[1;32m      4\u001b[0m \u001b[0;34m\u001b[0m\u001b[0m\n\u001b[1;32m      5\u001b[0m \u001b[0;32mimport\u001b[0m \u001b[0mimportlib\u001b[0m\u001b[0;34m\u001b[0m\u001b[0m\n",
      "\u001b[0;31mModuleNotFoundError\u001b[0m: No module named 'CatalogPusher'"
     ]
    }
   ],
   "source": [
    "import numpy as np\n",
    "from healpy import ang2pix\n",
    "import CatalogPusher\n",
    "\n",
    "import importlib\n",
    "importlib.reload(CatalogPusher)\n",
    "\n",
    "# build the pusher object and point it to the raw files.\n",
    "wisep = CatalogPusher.CatalogPusher(\n",
    "    catalog_name = 'wise',\n",
    "    data_source = '../testdata/AllWISE/',\n",
    "    file_type = \".bz2\")\n",
    "\n",
    "\n",
    "# read column names and types from schema file\n",
    "schema_file = \"../testdata/AllWISE/wise-allwise-cat-schema.txt\"\n",
    "names, types = [], {}\n",
    "with open(schema_file) as schema:\n",
    "    for l in schema:\n",
    "        if \"#\" in l or (not l.strip()):\n",
    "            continue\n",
    "        name, dtype = zip(\n",
    "            [p.strip() for p in l.strip().split(\" \") if not p in [\"\"]])\n",
    "        name, dtype = name[0], dtype[0]\n",
    "        #print (name, dtype)\n",
    "        names.append(name)\n",
    "        # convert the data type\n",
    "        if \"char\" in dtype:\n",
    "            types[name] = str\n",
    "        elif \"decimal\" in dtype:\n",
    "            types[name] = np.float64\n",
    "        elif \"serial\" in dtype or \"integer\" in dtype:\n",
    "            types[name] = int\n",
    "        elif \"smallfloat\" in dtype:\n",
    "            types[name] = np.float16\n",
    "        elif \"smallint\" in dtype:\n",
    "            types[name] = np.int16\n",
    "        elif dtype == \"int8\":\n",
    "            types[name] = np.int8\n",
    "        else:\n",
    "            print(\"unknown data type: %s\"%dtype)\n",
    "\n",
    "# select the columns you want to use.\n",
    "use_cols = []\n",
    "select = [\"Basic Position and Identification Information\", \n",
    "         \"Primary Photometric Information\", \n",
    "         \"Measurement Quality and Source Reliability Information\",\n",
    "         \"2MASS PSC Association Information\"]\n",
    "with open(schema_file) as schema:\n",
    "    blocks = schema.read().split(\"#\")\n",
    "    for block in blocks:\n",
    "        if any([k in block for k in select]):\n",
    "            for l in block.split(\"\\n\")[1:]:\n",
    "                if \"#\" in l or (not l.strip()):\n",
    "                    continue\n",
    "                name, dtype = zip(\n",
    "                    [p.strip() for p in l.strip().split(\" \") if not p in [\"\"]])\n",
    "                use_cols.append(name[0])\n",
    "print(\"we will be using %d columns out of %d\"%(len(use_cols), len(names)))\n",
    "\n",
    "# now assign the reader to the catalog pusher object\n",
    "import pandas as pd\n",
    "wisep.assign_file_reader(\n",
    "        reader_func = pd.read_csv, \n",
    "        read_chunks = True,\n",
    "        names = names,\n",
    "        usecols = lambda x : x in use_cols,\n",
    "        #dtype = types,    #this mess up with NaN values\n",
    "        chunksize=5000,\n",
    "        header=None,\n",
    "        engine='c',\n",
    "        sep='|',\n",
    "        na_values = 'nnnn')\n",
    "\n",
    "\n",
    "# define the dictionary modifier that will act on the single entries\n",
    "def modifier(srcdict):\n",
    "    srcdict['hpxid_18'] = int(\n",
    "        ang2pix(2**18, srcdict['ra'], srcdict['dec'], lonlat = True, nest = True))\n",
    "    #srcdict['_id'] = srcdict.pop('source_id')   doesn't work, seems it is not unique\n",
    "    return srcdict\n",
    "wisep.assign_dict_modifier(modifier)\n",
    "\n",
    "\n",
    "# finally push it in the databse\n",
    "wisep.push_to_db(\n",
    "    coll_name = 'srcs', \n",
    "    index_on = \"hpxid_18\",\n",
    "    overwrite_coll = True, \n",
    "    append_to_coll = False)\n"
   ]
  },
  {
   "cell_type": "markdown",
   "metadata": {},
   "source": [
    "## 2) Testing the catalog\n",
    "\n",
    "At this stage, a simple test is run on the database, consisting in crossmatching with a set of randomly distributed points. The query time is also measured, allowing to decide weather the database is responsive enough to be included at the first stages of the AMPEL filtering process (the T0 pipeline tier)."
   ]
  },
  {
   "cell_type": "code",
   "execution_count": null,
   "metadata": {},
   "outputs": [],
   "source": [
    "# print info on database\n",
    "#mqp.info()\n",
    "\n",
    "\n",
    "# now test the database for query performances. We use \n",
    "# a sample of randomly distributed points on a sphere\n",
    "# as targets. \n",
    "\n",
    "# define the funtion to test coordinate based queries:\n",
    "import numpy as np\n",
    "from healpy import ang2pix, get_all_neighbours\n",
    "from astropy.table import Table\n",
    "from astropy.coordinates import SkyCoord\n",
    "\n",
    "return_fields = ['designation', 'ra', 'dec']\n",
    "project = {}\n",
    "for field in return_fields: project[field] = 1\n",
    "print (project)\n",
    "\n",
    "\n",
    "hp_order, rs_arcsec = 18, 30.\n",
    "def test_query(ra, dec, coll):\n",
    "    \"\"\"query collection for points within rs of target ra, dec.\n",
    "    The results as returned as an astropy Table.\"\"\"\n",
    "    \n",
    "    # find the index of the target pixel and its neighbours \n",
    "    target_pix = int( ang2pix(2**hp_order, ra, dec, nest = True, lonlat = True) )\n",
    "    neighbs = get_all_neighbours(2**hp_order, ra, dec, nest = True, lonlat = True)\n",
    "\n",
    "    # remove non-existing neigbours (in case of E/W/N/S) and add center pixel\n",
    "    pix_group = [int(pix_id) for pix_id in neighbs if pix_id != -1] + [target_pix]\n",
    "    \n",
    "    # query the database for sources in these pixels\n",
    "    qfilter = { 'hpxid_%d'%hp_order: { '$in': pix_group } }\n",
    "    qresults = [o for o in coll.find(qfilter)]\n",
    "    if len(qresults)==0:\n",
    "        return None\n",
    "    \n",
    "    # then use astropy to find the closest match\n",
    "    tab = Table(qresults)\n",
    "    target = SkyCoord(ra, dec, unit = 'deg')\n",
    "    matches_pos = SkyCoord(tab['ra'], tab['dec'], unit = 'deg')\n",
    "    d2t = target.separation(matches_pos).arcsecond\n",
    "    match_id = np.argmin(d2t)\n",
    "\n",
    "    # if it's too far away don't use it\n",
    "    if d2t[match_id]>rs_arcsec:\n",
    "        return None\n",
    "    return tab[match_id]\n",
    "\n",
    "# run the test\n",
    "wisep.run_test(test_query, npoints = 10000)\n"
   ]
  },
  {
   "cell_type": "markdown",
   "metadata": {},
   "source": [
    "# 3) Adding metadata\n",
    "\n",
    "Before exposing the catalog to AMPEL, metadata describing the catalog content, contact person, and query strategies have to be added to the catalog. If presents, the keys and parameters for the healpix partitioning of the sources are also to be given, as well as the name of the compound geoJSON/legacy pair entry in the documents.\n",
    "\n",
    "This information will be added into the 'metadata' collection of the database which will be accessed by the CatalogQuery. The metadata will be stored in a dedicated collection so that the database containig a given catalog will have two collections:\n",
    "    - db['srcs'] : contains the sources.\n",
    "    - db['meta'] : describes the catalog."
   ]
  },
  {
   "cell_type": "code",
   "execution_count": null,
   "metadata": {
    "collapsed": true
   },
   "outputs": [],
   "source": [
    "import CatalogPusher\n",
    "import importlib\n",
    "importlib.reload(CatalogPusher)\n",
    "\n",
    "\n",
    "mqp.healpix_meta(healpix_id_key = 'hpxid_18', order = 18, is_indexed = True, nest = True)\n",
    "mqp.science_meta(\n",
    "    contact =  'C. Norris', \n",
    "    email = 'chuck.norris@desy.de', \n",
    "    description = 'allWISE infrared catalog',\n",
    "    reference = 'http://wise2.ipac.caltech.edu/docs/release/allwise/')\n"
   ]
  },
  {
   "cell_type": "markdown",
   "metadata": {},
   "source": [
    "# 4) Exposing the catalog to AMPEL\n",
    "\n",
    "In this last step, a reference to the catalog will be added to the list of external catalogs that can be queried within the ampel pipeline, through the functions provided by the CatalogQuery class. The class CatalogManager provides interface to/from the list of external catalog and can be used to expose or hide catalogs."
   ]
  },
  {
   "cell_type": "code",
   "execution_count": null,
   "metadata": {
    "collapsed": true
   },
   "outputs": [],
   "source": [
    "import CatalogManager\n",
    "import importlib\n",
    "importlib.reload(CatalogManager)\n",
    "\n",
    "cm = CatalogManager.CatalogManager()\n",
    "\n",
    "# try to 'bring it down'\n",
    "cm.hide('milliquas')\n",
    "\n",
    "# expose it \n",
    "cm.expose('milliquas')\n",
    "\n",
    "# expose it again\n",
    "cm.expose('milliquas')"
   ]
  },
  {
   "cell_type": "code",
   "execution_count": null,
   "metadata": {
    "collapsed": true
   },
   "outputs": [],
   "source": []
  }
 ],
 "metadata": {
  "kernelspec": {
   "display_name": "Python 3",
   "language": "python",
   "name": "python3"
  },
  "language_info": {
   "codemirror_mode": {
    "name": "ipython",
    "version": 3
   },
   "file_extension": ".py",
   "mimetype": "text/x-python",
   "name": "python",
   "nbconvert_exporter": "python",
   "pygments_lexer": "ipython3",
   "version": "3.6.3"
  }
 },
 "nbformat": 4,
 "nbformat_minor": 2
}
