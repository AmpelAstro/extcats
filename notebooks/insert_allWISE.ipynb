{
 "cells": [
  {
   "cell_type": "markdown",
   "metadata": {},
   "source": [
    "# Add external catalog for source matching: allWISE catalog\n",
    "\n",
    "This notebook will create a dabase containing the allWISE all-sky mid-infrared catalog. As the catalogs grows (the allWISE catalog we are inserting contains of the order of hundreds of millions sources), using an index on the geoJSON corrdinate type to support the queries becomes unpractical, as such an index does not compress well. In this case, and healpix based indexing offers a good compromise. We will use an healpix grid of order 16, which has a resolution of ~ 3 arcseconds, simlar to the FWHM of ZTF images. \n",
    "\n",
    "References, data access, and documentation on the catalog can be found at:\n",
    "\n",
    "http://wise2.ipac.caltech.edu/docs/release/allwise/\n",
    "\n",
    "http://irsa.ipac.caltech.edu/data/download/wise-allwise/\n",
    "\n",
    "This notebook is straight to the point, more like an actual piece of code than a demo. For an explanation of the various steps needed in the see the 'insert_example' notebook in this same folder."
   ]
  },
  {
   "cell_type": "markdown",
   "metadata": {},
   "source": [
    "## 1) Inserting:"
   ]
  },
  {
   "cell_type": "code",
   "execution_count": 1,
   "metadata": {},
   "outputs": [
    {
     "name": "stderr",
     "output_type": "stream",
     "text": [
      "INFO:extcats.CatalogPusher:found 1 files for catalog wise in data source: ['../testdata/AllWISE/']\n",
      "INFO:extcats.CatalogPusher:checking raw files for existence and consistency..\n",
      "INFO:extcats.CatalogPusher:all files exists and have consistent type.\n",
      "INFO:extcats.CatalogPusher:file reader read_csv assigned to pusher.\n",
      "INFO:extcats.CatalogPusher:source document modifer modifier assigned to pusher.\n",
      "INFO:extcats.CatalogPusher:using mongo client at localhost:27017\n",
      "INFO:extcats.CatalogPusher:connecting to database wise. Here some stats:\n",
      "INFO:extcats.CatalogPusher:{\n",
      "  \"db\": \"wise\",\n",
      "  \"collections\": 1,\n",
      "  \"views\": 0,\n",
      "  \"objects\": 15575416,\n",
      "  \"avgObjSize\": 1284.6681279652498,\n",
      "  \"dataSize\": 20009240515.0,\n",
      "  \"storageSize\": 8750858240.0,\n",
      "  \"numExtents\": 0,\n",
      "  \"indexes\": 2,\n",
      "  \"indexSize\": 469798912.0,\n",
      "  \"fsUsedSize\": 220678574080.0,\n",
      "  \"fsTotalSize\": 231446335488.0,\n",
      "  \"ok\": 1.0\n",
      "}\n",
      "WARNING:extcats.CatalogPusher:overwrite_coll asserted: collection srcs will be dropped.\n",
      "INFO:extcats.CatalogPusher:collection has the following indexes: _id_, hpxid_16_1\n",
      "INFO:extcats.CatalogPusher:inserting ../testdata/AllWISE/wise-allwise-cat-part33.bz2 in collection wise.srcs.\n"
     ]
    },
    {
     "name": "stdout",
     "output_type": "stream",
     "text": [
      "we will be using 79 columns out of 298\n"
     ]
    },
    {
     "name": "stderr",
     "output_type": "stream",
     "text": [
      "INFO:extcats.CatalogPusher:inserted 15575416 documents in 4.39e+03 seconds\n",
      "INFO:extcats.CatalogPusher:done inserting catalog wise in collection wise.srcs. Took 4.39e+03 seconds\n"
     ]
    }
   ],
   "source": [
    "import numpy as np\n",
    "from healpy import ang2pix\n",
    "from extcats import CatalogPusher\n",
    "\n",
    "# build the pusher object and point it to the raw files.\n",
    "wisep = CatalogPusher.CatalogPusher(\n",
    "    catalog_name = 'wise',\n",
    "    data_source = '../testdata/AllWISE/',\n",
    "    file_type = \".bz2\")\n",
    "\n",
    "\n",
    "# read column names and types from schema file\n",
    "schema_file = \"../testdata/AllWISE/wise-allwise-cat-schema.txt\"\n",
    "names, types = [], {}\n",
    "with open(schema_file) as schema:\n",
    "    for l in schema:\n",
    "        if \"#\" in l or (not l.strip()):\n",
    "            continue\n",
    "        name, dtype = zip(\n",
    "            [p.strip() for p in l.strip().split(\" \") if not p in [\"\"]])\n",
    "        name, dtype = name[0], dtype[0]\n",
    "        #print (name, dtype)\n",
    "        names.append(name)\n",
    "        # convert the data type\n",
    "        if \"char\" in dtype:\n",
    "            types[name] = str\n",
    "        elif \"decimal\" in dtype:\n",
    "            types[name] = np.float64\n",
    "        elif \"serial\" in dtype or \"integer\" in dtype:\n",
    "            types[name] = int\n",
    "        elif \"smallfloat\" in dtype:\n",
    "            types[name] = np.float16\n",
    "        elif \"smallint\" in dtype:\n",
    "            types[name] = np.int16\n",
    "        elif dtype == \"int8\":\n",
    "            types[name] = np.int8\n",
    "        else:\n",
    "            print(\"unknown data type: %s\"%dtype)\n",
    "\n",
    "# select the columns you want to use.\n",
    "use_cols = []\n",
    "select = [\"Basic Position and Identification Information\", \n",
    "         \"Primary Photometric Information\", \n",
    "         \"Measurement Quality and Source Reliability Information\",\n",
    "         \"2MASS PSC Association Information\"]\n",
    "with open(schema_file) as schema:\n",
    "    blocks = schema.read().split(\"#\")\n",
    "    for block in blocks:\n",
    "        if any([k in block for k in select]):\n",
    "            for l in block.split(\"\\n\")[1:]:\n",
    "                if \"#\" in l or (not l.strip()):\n",
    "                    continue\n",
    "                name, dtype = zip(\n",
    "                    [p.strip() for p in l.strip().split(\" \") if not p in [\"\"]])\n",
    "                use_cols.append(name[0])\n",
    "print(\"we will be using %d columns out of %d\"%(len(use_cols), len(names)))\n",
    "\n",
    "# now assign the reader to the catalog pusher object\n",
    "import pandas as pd\n",
    "wisep.assign_file_reader(\n",
    "        reader_func = pd.read_csv, \n",
    "        read_chunks = True,\n",
    "        names = names,\n",
    "        usecols = lambda x : x in use_cols,\n",
    "        #dtype = types,    #this mess up with NaN values\n",
    "        chunksize=5000,\n",
    "        header=None,\n",
    "        engine='c',\n",
    "        sep='|',\n",
    "        na_values = 'nnnn')\n",
    "\n",
    "\n",
    "# define the dictionary modifier that will act on the single entries\n",
    "def modifier(srcdict):\n",
    "    srcdict['hpxid_16'] = int(\n",
    "        ang2pix(2**16, srcdict['ra'], srcdict['dec'], lonlat = True, nest = True))\n",
    "    #srcdict['_id'] = srcdict.pop('source_id')   doesn't work, seems it is not unique\n",
    "    return srcdict\n",
    "wisep.assign_dict_modifier(modifier)\n",
    "\n",
    "\n",
    "# finally push it in the databse\n",
    "wisep.push_to_db(\n",
    "    coll_name = 'srcs', \n",
    "    index_on = \"hpxid_16\",\n",
    "    overwrite_coll = True, \n",
    "    append_to_coll = False)\n",
    "\n",
    "\n",
    "# if needed print extensive info on database\n",
    "#wisep.info()"
   ]
  },
  {
   "cell_type": "markdown",
   "metadata": {},
   "source": [
    "## 2) Testing the catalog\n",
    "\n",
    "At this stage, a simple test is run on the database, consisting in crossmatching with a set of randomly distributed points."
   ]
  },
  {
   "cell_type": "code",
   "execution_count": 2,
   "metadata": {},
   "outputs": [
    {
     "name": "stderr",
     "output_type": "stream",
     "text": [
      "INFO:extcats.CatalogPusher:running test queries using 10000 random points\n",
      "  1%|          | 54/10000 [00:00<00:18, 536.21it/s]"
     ]
    },
    {
     "name": "stdout",
     "output_type": "stream",
     "text": [
      "{'designation': 1, 'ra': 1, 'dec': 1}\n"
     ]
    },
    {
     "name": "stderr",
     "output_type": "stream",
     "text": [
      "100%|██████████| 10000/10000 [00:15<00:00, 632.00it/s]\n",
      "INFO:extcats.CatalogPusher:Total document found for query: 1\n",
      "INFO:extcats.CatalogPusher:Took 1.58e+01 sec for 10000 random queries. Average query time: 1.583e-03 sec\n"
     ]
    }
   ],
   "source": [
    "# now test the database for query performances. We use \n",
    "# a sample of randomly distributed points on a sphere\n",
    "# as targets. \n",
    "\n",
    "# define the funtion to test coordinate based queries:\n",
    "from healpy import ang2pix, get_all_neighbours\n",
    "from astropy.table import Table\n",
    "from astropy.coordinates import SkyCoord\n",
    "\n",
    "return_fields = ['designation', 'ra', 'dec']\n",
    "project = {}\n",
    "for field in return_fields: project[field] = 1\n",
    "print (project)\n",
    "\n",
    "\n",
    "hp_order, rs_arcsec = 16, 30.\n",
    "def test_query(ra, dec, coll):\n",
    "    \"\"\"query collection for points within rs of target ra, dec.\n",
    "    The results as returned as an astropy Table.\"\"\"\n",
    "    \n",
    "    # find the index of the target pixel and its neighbours \n",
    "    target_pix = int( ang2pix(2**hp_order, ra, dec, nest = True, lonlat = True) )\n",
    "    neighbs = get_all_neighbours(2**hp_order, ra, dec, nest = True, lonlat = True)\n",
    "\n",
    "    # remove non-existing neigbours (in case of E/W/N/S) and add center pixel\n",
    "    pix_group = [int(pix_id) for pix_id in neighbs if pix_id != -1] + [target_pix]\n",
    "    \n",
    "    # query the database for sources in these pixels\n",
    "    qfilter = { 'hpxid_%d'%hp_order: { '$in': pix_group } }\n",
    "    qresults = [o for o in coll.find(qfilter)]\n",
    "    if len(qresults)==0:\n",
    "        return None\n",
    "    \n",
    "    # then use astropy to find the closest match\n",
    "    tab = Table(qresults)\n",
    "    target = SkyCoord(ra, dec, unit = 'deg')\n",
    "    matches_pos = SkyCoord(tab['ra'], tab['dec'], unit = 'deg')\n",
    "    d2t = target.separation(matches_pos).arcsecond\n",
    "    match_id = np.argmin(d2t)\n",
    "\n",
    "    # if it's too far away don't use it\n",
    "    if d2t[match_id]>rs_arcsec:\n",
    "        return None\n",
    "    return tab[match_id]\n",
    "\n",
    "# run the test\n",
    "wisep.run_test(test_query, npoints = 10000)\n"
   ]
  },
  {
   "cell_type": "markdown",
   "metadata": {},
   "source": [
    "# 3) Adding metadata\n",
    "\n",
    "Once the database is set up and the query performance are satisfactory, metadata describing the catalog content, contact person, and query strategies have to be added to the catalog database. If presents, the keys and parameters for the healpix partitioning of the sources are also to be given, as well as the name of the compound geoJSON/legacy pair entry in the documents.\n",
    "\n",
    "This information will be added into the 'metadata' collection of the database which will be accessed by the CatalogQuery. The metadata will be stored in a dedicated collection so that the database containig a given catalog will have two collections:\n",
    "    - db['srcs'] : contains the sources.\n",
    "    - db['meta'] : describes the catalog."
   ]
  },
  {
   "cell_type": "code",
   "execution_count": 3,
   "metadata": {},
   "outputs": [
    {
     "ename": "NameError",
     "evalue": "name 'mqp' is not defined",
     "output_type": "error",
     "traceback": [
      "\u001b[0;31m---------------------------------------------------------------------------\u001b[0m",
      "\u001b[0;31mNameError\u001b[0m                                 Traceback (most recent call last)",
      "\u001b[0;32m<ipython-input-3-134eab9d4fb4>\u001b[0m in \u001b[0;36m<module>\u001b[0;34m()\u001b[0m\n\u001b[0;32m----> 1\u001b[0;31m \u001b[0mmqp\u001b[0m\u001b[0;34m.\u001b[0m\u001b[0mhealpix_meta\u001b[0m\u001b[0;34m(\u001b[0m\u001b[0mhealpix_id_key\u001b[0m \u001b[0;34m=\u001b[0m \u001b[0;34m'hpxid_16'\u001b[0m\u001b[0;34m,\u001b[0m \u001b[0morder\u001b[0m \u001b[0;34m=\u001b[0m \u001b[0;36m16\u001b[0m\u001b[0;34m,\u001b[0m \u001b[0mis_indexed\u001b[0m \u001b[0;34m=\u001b[0m \u001b[0;32mTrue\u001b[0m\u001b[0;34m,\u001b[0m \u001b[0mnest\u001b[0m \u001b[0;34m=\u001b[0m \u001b[0;32mTrue\u001b[0m\u001b[0;34m)\u001b[0m\u001b[0;34m\u001b[0m\u001b[0m\n\u001b[0m\u001b[1;32m      2\u001b[0m mqp.science_meta(\n\u001b[1;32m      3\u001b[0m     \u001b[0mcontact\u001b[0m \u001b[0;34m=\u001b[0m  \u001b[0;34m'C. Norris'\u001b[0m\u001b[0;34m,\u001b[0m\u001b[0;34m\u001b[0m\u001b[0m\n\u001b[1;32m      4\u001b[0m     \u001b[0memail\u001b[0m \u001b[0;34m=\u001b[0m \u001b[0;34m'chuck.norris@desy.de'\u001b[0m\u001b[0;34m,\u001b[0m\u001b[0;34m\u001b[0m\u001b[0m\n\u001b[1;32m      5\u001b[0m     \u001b[0mdescription\u001b[0m \u001b[0;34m=\u001b[0m \u001b[0;34m'allWISE infrared catalog'\u001b[0m\u001b[0;34m,\u001b[0m\u001b[0;34m\u001b[0m\u001b[0m\n",
      "\u001b[0;31mNameError\u001b[0m: name 'mqp' is not defined"
     ]
    }
   ],
   "source": [
    "mqp.healpix_meta(healpix_id_key = 'hpxid_16', order = 16, is_indexed = True, nest = True)\n",
    "mqp.science_meta(\n",
    "    contact =  'C. Norris', \n",
    "    email = 'chuck.norris@desy.de', \n",
    "    description = 'allWISE infrared catalog',\n",
    "    reference = 'http://wise2.ipac.caltech.edu/docs/release/allwise/')"
   ]
  },
  {
   "cell_type": "code",
   "execution_count": null,
   "metadata": {
    "collapsed": true
   },
   "outputs": [],
   "source": []
  }
 ],
 "metadata": {
  "kernelspec": {
   "display_name": "Python 3",
   "language": "python",
   "name": "python3"
  },
  "language_info": {
   "codemirror_mode": {
    "name": "ipython",
    "version": 3
   },
   "file_extension": ".py",
   "mimetype": "text/x-python",
   "name": "python",
   "nbconvert_exporter": "python",
   "pygments_lexer": "ipython3",
   "version": "3.6.3"
  }
 },
 "nbformat": 4,
 "nbformat_minor": 2
}
